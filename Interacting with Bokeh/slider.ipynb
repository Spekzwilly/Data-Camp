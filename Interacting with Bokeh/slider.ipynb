{
 "cells": [
  {
   "cell_type": "code",
   "execution_count": 1,
   "metadata": {},
   "outputs": [],
   "source": [
    "from bokeh.io import curdoc\n",
    "from bokeh.layouts import column\n",
    "from bokeh.models import ColumnDataSource, Slider\n",
    "from bokeh.plotting import figure\n",
    "from numpy.random import random\n",
    "\n",
    "N = 300\n",
    "source = ColumnDataSource(data={'x': random(N), 'y': random(N)})\n",
    "\n",
    "# Create plots and widgets\n",
    "plot = figure()\n",
    "plot.circle('x', 'y', source=source)\n",
    "\n",
    "slider = Slider(start=100, end=1000, value=N, step=10, title='Number of points')\n",
    "\n",
    "# Add callback to widgets\n",
    "def callback(attr, old, new):\n",
    "    N = Slider.value\n",
    "    source.data = {'x': random(N), 'y': random(N)}\n",
    "slider.on_change('value', callback)\n",
    "\n",
    "#Arrange plots and widgets in layouts\n",
    "layout = column(slider, plot)\n",
    "\n",
    "curdoc().add_root(layout)"
   ]
  }
 ],
 "metadata": {
  "kernelspec": {
   "display_name": "Python 3",
   "language": "python",
   "name": "python3"
  },
  "language_info": {
   "codemirror_mode": {
    "name": "ipython",
    "version": 3
   },
   "file_extension": ".py",
   "mimetype": "text/x-python",
   "name": "python",
   "nbconvert_exporter": "python",
   "pygments_lexer": "ipython3",
   "version": "3.6.5"
  }
 },
 "nbformat": 4,
 "nbformat_minor": 2
}
